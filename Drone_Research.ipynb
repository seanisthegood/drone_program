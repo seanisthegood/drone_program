{
 "cells": [
  {
   "cell_type": "markdown",
   "id": "3c9cbd6c-1a58-4a20-8195-0f0e4e9e2e6f",
   "metadata": {},
   "source": [
    "# Notebook for Drone Navigation Through Maze"
   ]
  },
  {
   "cell_type": "markdown",
   "id": "c6561517-8626-4be6-ada5-1ce92e2e7d75",
   "metadata": {},
   "source": [
    "This notebook seeks to be a controller and reporting for CoDrone. It will use its capabilities to and onboard sensors to navigate a maze and report back the metrics from the flight. "
   ]
  },
  {
   "cell_type": "markdown",
   "id": "1ea62cdc-89b2-47df-9d0f-03c3f4fe9f19",
   "metadata": {},
   "source": [
    "### Tunnels to Navigate"
   ]
  },
  {
   "cell_type": "markdown",
   "id": "ff5d5532-5401-4a2f-8255-3fcccc11f2d4",
   "metadata": {},
   "source": [
    "<div>\n",
    "<img src=\"Images/tunnel.jpg\" width=\"400\"/>\n",
    "</div>\n"
   ]
  },
  {
   "cell_type": "markdown",
   "id": "c33817a7-2990-410a-a895-bde6a0853551",
   "metadata": {},
   "source": [
    "### Drone Layout"
   ]
  },
  {
   "cell_type": "markdown",
   "id": "eb458fc6-131d-4848-9ed9-97715b8799f8",
   "metadata": {},
   "source": [
    "<div>\n",
    "<img src=\"Images/DroneLayout.png\" width=\"800\"/>\n",
    "</div>\n"
   ]
  },
  {
   "cell_type": "markdown",
   "id": "77ee35c4-f8c3-47a1-bdac-0f593220546d",
   "metadata": {},
   "source": [
    "I will attempt to take advantage of the Front Range Sensor as well as the Optical Flow and and Bottom Range Sensor.\n",
    "\n",
    "Quick Defitinons:\n",
    "\n",
    "Front Range Sensor - \n",
    "\n",
    "Bottom Range Sensor - \n",
    "\n",
    "Optical Flow Sensor - "
   ]
  },
  {
   "cell_type": "markdown",
   "id": "a499c725-58b7-4548-b900-94c002670967",
   "metadata": {},
   "source": [
    "#### Controlling the Drone"
   ]
  },
  {
   "cell_type": "code",
   "execution_count": 1,
   "id": "c82a016a-55fd-4d62-a232-0c2d5f6daa63",
   "metadata": {},
   "outputs": [],
   "source": [
    "from codrone_edu.drone import *\n",
    "import time\n",
    "import pandas as pd"
   ]
  },
  {
   "cell_type": "code",
   "execution_count": 111,
   "id": "621b0564-ab04-43b2-a7c3-2becf96ee3e9",
   "metadata": {},
   "outputs": [],
   "source": [
    "drone.close()"
   ]
  },
  {
   "cell_type": "code",
   "execution_count": 225,
   "id": "a05c2644-93ce-4b5a-becb-012b3155b986",
   "metadata": {
    "scrolled": true
   },
   "outputs": [
    {
     "name": "stdout",
     "output_type": "stream",
     "text": [
      "Running codrone-edu library version 2.3\n",
      "Detected CoDrone EDU controller at port COM5\n",
      "Connected to CoDrone EDU.\n",
      "Battery = 76%\n"
     ]
    },
    {
     "data": {
      "text/plain": [
       "True"
      ]
     },
     "execution_count": 225,
     "metadata": {},
     "output_type": "execute_result"
    },
    {
     "name": "stderr",
     "output_type": "stream",
     "text": [
      "Exception in thread Thread-9 (_receiving):\n",
      "Traceback (most recent call last):\n",
      "  File \"C:\\Program Files\\WindowsApps\\PythonSoftwareFoundation.Python.3.11_3.11.2544.0_x64__qbz5n2kfra8p0\\Lib\\threading.py\", line 1045, in _bootstrap_inner\n",
      "    self.run()\n",
      "  File \"c:\\Users\\student\\Documents\\drone_research\\.venv\\Lib\\site-packages\\ipykernel\\ipkernel.py\", line 766, in run_closure\n",
      "    _threading_Thread_run(self)\n",
      "  File \"C:\\Program Files\\WindowsApps\\PythonSoftwareFoundation.Python.3.11_3.11.2544.0_x64__qbz5n2kfra8p0\\Lib\\threading.py\", line 982, in run\n",
      "    self._target(*self._args, **self._kwargs)\n",
      "  File \"c:\\Users\\student\\Documents\\drone_research\\.venv\\Lib\\site-packages\\codrone_edu\\drone.py\", line 1733, in _receiving\n",
      "    self._bufferQueue.put(self._serialport.read())\n",
      "                          ^^^^^^^^^^^^^^^^^^^^^^^\n",
      "  File \"c:\\Users\\student\\Documents\\drone_research\\.venv\\Lib\\site-packages\\serial\\serialwin32.py\", line 275, in read\n",
      "    raise SerialException(\"ClearCommError failed ({!r})\".format(ctypes.WinError()))\n",
      "serial.serialutil.SerialException: ClearCommError failed (PermissionError(13, 'The device does not recognize the command.', None, 22))\n"
     ]
    }
   ],
   "source": [
    "drone = Drone()\n",
    "drone.pair()"
   ]
  },
  {
   "cell_type": "code",
   "execution_count": 123,
   "id": "7ae4b87c-56fd-418d-9f98-d16b9c3153c4",
   "metadata": {},
   "outputs": [],
   "source": [
    "drone.land()"
   ]
  },
  {
   "cell_type": "code",
   "execution_count": 124,
   "id": "754c49d1-e62a-4940-bbb0-493a1402c343",
   "metadata": {},
   "outputs": [
    {
     "ename": "AttributeError",
     "evalue": "'Drone' object has no attribute 'moveforward'",
     "output_type": "error",
     "traceback": [
      "\u001b[31m---------------------------------------------------------------------------\u001b[39m",
      "\u001b[31mAttributeError\u001b[39m                            Traceback (most recent call last)",
      "\u001b[36mCell\u001b[39m\u001b[36m \u001b[39m\u001b[32mIn[124]\u001b[39m\u001b[32m, line 2\u001b[39m\n\u001b[32m      1\u001b[39m drone.takeoff()\n\u001b[32m----> \u001b[39m\u001b[32m2\u001b[39m \u001b[43mdrone\u001b[49m\u001b[43m.\u001b[49m\u001b[43mmoveforward\u001b[49m(\u001b[32m30\u001b[39m)\n",
      "\u001b[31mAttributeError\u001b[39m: 'Drone' object has no attribute 'moveforward'"
     ]
    }
   ],
   "source": [
    "drone.takeoff()\n"
   ]
  },
  {
   "cell_type": "code",
   "execution_count": 113,
   "id": "a094e704-50fb-4152-a2ee-89095c822211",
   "metadata": {},
   "outputs": [
    {
     "ename": "KeyboardInterrupt",
     "evalue": "",
     "output_type": "error",
     "traceback": [
      "\u001b[31m---------------------------------------------------------------------------\u001b[39m",
      "\u001b[31mKeyboardInterrupt\u001b[39m                         Traceback (most recent call last)",
      "\u001b[36mCell\u001b[39m\u001b[36m \u001b[39m\u001b[32mIn[113]\u001b[39m\u001b[32m, line 1\u001b[39m\n\u001b[32m----> \u001b[39m\u001b[32m1\u001b[39m \u001b[43mdrone\u001b[49m\u001b[43m.\u001b[49m\u001b[43mtakeoff\u001b[49m\u001b[43m(\u001b[49m\u001b[43m)\u001b[49m\n\u001b[32m      2\u001b[39m drone.send_absolute_position(\u001b[32m0.5\u001b[39m, \u001b[32m0\u001b[39m, \u001b[32m1\u001b[39m, \u001b[32m0.5\u001b[39m, \u001b[32m0\u001b[39m, \u001b[32m0\u001b[39m)\n",
      "\u001b[36mFile \u001b[39m\u001b[32mc:\\Users\\student\\Documents\\drone_research\\.venv\\Lib\\site-packages\\codrone_edu\\drone.py:2693\u001b[39m, in \u001b[36mDrone.takeoff\u001b[39m\u001b[34m(self)\u001b[39m\n\u001b[32m   2691\u001b[39m \u001b[38;5;28;01mdef\u001b[39;00m\u001b[38;5;250m \u001b[39m\u001b[34mtakeoff\u001b[39m(\u001b[38;5;28mself\u001b[39m):\n\u001b[32m   2692\u001b[39m     \u001b[38;5;28;01mif\u001b[39;00m sys.platform != \u001b[33m'\u001b[39m\u001b[33memscripten\u001b[39m\u001b[33m'\u001b[39m \u001b[38;5;129;01mand\u001b[39;00m \u001b[38;5;129;01mnot\u001b[39;00m \u001b[38;5;28mself\u001b[39m._swarm:\n\u001b[32m-> \u001b[39m\u001b[32m2693\u001b[39m         \u001b[38;5;28;01mreturn\u001b[39;00m \u001b[38;5;28;43mself\u001b[39;49m\u001b[43m.\u001b[49m\u001b[43m_takeoff_desktop\u001b[49m\u001b[43m(\u001b[49m\u001b[43m)\u001b[49m\n\u001b[32m   2694\u001b[39m     \u001b[38;5;28;01melse\u001b[39;00m:\n\u001b[32m   2695\u001b[39m         \u001b[38;5;28;01mreturn\u001b[39;00m asyncio.create_task(\u001b[38;5;28mself\u001b[39m._takeoff_emscripten())\n",
      "\u001b[36mFile \u001b[39m\u001b[32mc:\\Users\\student\\Documents\\drone_research\\.venv\\Lib\\site-packages\\codrone_edu\\drone.py:2715\u001b[39m, in \u001b[36mDrone._takeoff_desktop\u001b[39m\u001b[34m(self)\u001b[39m\n\u001b[32m   2712\u001b[39m         \u001b[38;5;28mself\u001b[39m.sendTakeOff()\n\u001b[32m   2713\u001b[39m         time.sleep(\u001b[32m0.01\u001b[39m)\n\u001b[32m-> \u001b[39m\u001b[32m2715\u001b[39m time.sleep(\u001b[32m4\u001b[39m)\n",
      "\u001b[31mKeyboardInterrupt\u001b[39m: "
     ]
    }
   ],
   "source": [
    "drone.takeoff()\n",
    "drone.send_absolute_position(0.5, 0, 1, 0.5, 0, 0)\n"
   ]
  },
  {
   "cell_type": "code",
   "execution_count": 34,
   "id": "a5785b39-5e97-411c-a93a-24335985df7d",
   "metadata": {},
   "outputs": [],
   "source": [
    "drone.takeoff()\n",
    "# fly forward until a wall is found 50 cm away. run this loop for 10 seconds.\n",
    "drone.avoid_wall(10, 50)\n",
    "drone.land()"
   ]
  },
  {
   "cell_type": "code",
   "execution_count": 35,
   "id": "cbff4832-d8b3-4b34-84bb-82b6113b93bf",
   "metadata": {},
   "outputs": [
    {
     "data": {
      "text/plain": [
       "83"
      ]
     },
     "execution_count": 35,
     "metadata": {},
     "output_type": "execute_result"
    }
   ],
   "source": [
    "drone.get_battery()"
   ]
  },
  {
   "cell_type": "code",
   "execution_count": 49,
   "id": "a97dbf97-ebfb-458e-9e88-f6924e632116",
   "metadata": {},
   "outputs": [],
   "source": [
    "drone.takeoff()"
   ]
  },
  {
   "cell_type": "code",
   "execution_count": 36,
   "id": "77fb1583-2e0d-41ca-829d-384ff19f57f0",
   "metadata": {},
   "outputs": [],
   "source": [
    "drone.takeoff()\n",
    "# Drone turns left for 1 second with 50 power\n",
    "drone.set_yaw(50)\n",
    "drone.move(1) # move command executes the movement for 1 second\n",
    "drone.land()"
   ]
  },
  {
   "cell_type": "code",
   "execution_count": 39,
   "id": "4e137b50-744f-4025-a3cb-c2e691d10313",
   "metadata": {},
   "outputs": [
    {
     "ename": "KeyboardInterrupt",
     "evalue": "",
     "output_type": "error",
     "traceback": [
      "\u001b[31m---------------------------------------------------------------------------\u001b[39m",
      "\u001b[31mKeyboardInterrupt\u001b[39m                         Traceback (most recent call last)",
      "\u001b[36mCell\u001b[39m\u001b[36m \u001b[39m\u001b[32mIn[39]\u001b[39m\u001b[32m, line 1\u001b[39m\n\u001b[32m----> \u001b[39m\u001b[32m1\u001b[39m \u001b[43mdrone\u001b[49m\u001b[43m.\u001b[49m\u001b[43mtakeoff\u001b[49m\u001b[43m(\u001b[49m\u001b[43m)\u001b[49m\n\u001b[32m      2\u001b[39m drone.move_distance(\u001b[32m0.5\u001b[39m, \u001b[32m0.5\u001b[39m, \u001b[32m0.25\u001b[39m, \u001b[32m1\u001b[39m) \u001b[38;5;66;03m# move forward 0.5m, left 0.5m, and upward 0.25m simultaneously at 1m/s\u001b[39;00m\n\u001b[32m      3\u001b[39m drone.move_distance(-\u001b[32m0.75\u001b[39m, \u001b[32m0\u001b[39m, \u001b[32m0\u001b[39m, \u001b[32m0.75\u001b[39m) \u001b[38;5;66;03m# move back 0.75m at 0.75m/s\u001b[39;00m\n",
      "\u001b[36mFile \u001b[39m\u001b[32mc:\\Users\\student\\Documents\\drone_research\\.venv\\Lib\\site-packages\\codrone_edu\\drone.py:2693\u001b[39m, in \u001b[36mDrone.takeoff\u001b[39m\u001b[34m(self)\u001b[39m\n\u001b[32m   2691\u001b[39m \u001b[38;5;28;01mdef\u001b[39;00m\u001b[38;5;250m \u001b[39m\u001b[34mtakeoff\u001b[39m(\u001b[38;5;28mself\u001b[39m):\n\u001b[32m   2692\u001b[39m     \u001b[38;5;28;01mif\u001b[39;00m sys.platform != \u001b[33m'\u001b[39m\u001b[33memscripten\u001b[39m\u001b[33m'\u001b[39m \u001b[38;5;129;01mand\u001b[39;00m \u001b[38;5;129;01mnot\u001b[39;00m \u001b[38;5;28mself\u001b[39m._swarm:\n\u001b[32m-> \u001b[39m\u001b[32m2693\u001b[39m         \u001b[38;5;28;01mreturn\u001b[39;00m \u001b[38;5;28;43mself\u001b[39;49m\u001b[43m.\u001b[49m\u001b[43m_takeoff_desktop\u001b[49m\u001b[43m(\u001b[49m\u001b[43m)\u001b[49m\n\u001b[32m   2694\u001b[39m     \u001b[38;5;28;01melse\u001b[39;00m:\n\u001b[32m   2695\u001b[39m         \u001b[38;5;28;01mreturn\u001b[39;00m asyncio.create_task(\u001b[38;5;28mself\u001b[39m._takeoff_emscripten())\n",
      "\u001b[36mFile \u001b[39m\u001b[32mc:\\Users\\student\\Documents\\drone_research\\.venv\\Lib\\site-packages\\codrone_edu\\drone.py:2715\u001b[39m, in \u001b[36mDrone._takeoff_desktop\u001b[39m\u001b[34m(self)\u001b[39m\n\u001b[32m   2712\u001b[39m         \u001b[38;5;28mself\u001b[39m.sendTakeOff()\n\u001b[32m   2713\u001b[39m         time.sleep(\u001b[32m0.01\u001b[39m)\n\u001b[32m-> \u001b[39m\u001b[32m2715\u001b[39m time.sleep(\u001b[32m4\u001b[39m)\n",
      "\u001b[31mKeyboardInterrupt\u001b[39m: "
     ]
    }
   ],
   "source": [
    "drone.takeoff()\n",
    "drone.move_distance(0.5, 0.5, 0.25, 1) # move forward 0.5m, left 0.5m, and upward 0.25m simultaneously at 1m/s\n",
    "drone.move_distance(-0.75, 0, 0, 0.75) # move back 0.75m at 0.75m/s\n",
    "drone.land()"
   ]
  },
  {
   "cell_type": "code",
   "execution_count": 105,
   "id": "ff19ac19-ad0d-418f-82e0-9833cf85324b",
   "metadata": {},
   "outputs": [],
   "source": [
    "drone.takeoff()"
   ]
  },
  {
   "cell_type": "code",
   "execution_count": 167,
   "id": "5a456206-3a01-4d3a-940e-2d5ef6a08916",
   "metadata": {},
   "outputs": [
    {
     "data": {
      "text/plain": [
       "-2.526"
      ]
     },
     "execution_count": 167,
     "metadata": {},
     "output_type": "execute_result"
    }
   ],
   "source": [
    "drone.get_pos_x()"
   ]
  },
  {
   "cell_type": "code",
   "execution_count": 162,
   "id": "288ef978-2462-4d59-b26a-d234fccd4fb1",
   "metadata": {},
   "outputs": [],
   "source": [
    "drone.takeoff()"
   ]
  },
  {
   "cell_type": "code",
   "execution_count": 157,
   "id": "8c7a6422-7ae8-4532-8c07-ba7d3fd6ce8c",
   "metadata": {},
   "outputs": [],
   "source": [
    "drone.close()"
   ]
  },
  {
   "cell_type": "code",
   "execution_count": 153,
   "id": "2f40709d-5ab5-47dc-b4f3-4964e015568d",
   "metadata": {},
   "outputs": [
    {
     "name": "stdout",
     "output_type": "stream",
     "text": [
      "0 1276.5378594398499\n",
      "1 12.968841552734375\n",
      "2 100991.5234375\n",
      "3 136.806640625\n",
      "4 0.0\n",
      "5 1276.5438747406006\n",
      "6 0\n",
      "7 0\n",
      "8 97\n",
      "9 0\n",
      "10 0\n",
      "11 0\n",
      "12 0\n",
      "13 0\n",
      "14 1\n",
      "15 1276.5536329746246\n",
      "16 -1.7821062803268433\n",
      "17 0.5896666646003723\n",
      "18 -0.00014228193322196603\n",
      "19 1276.5644562244415\n",
      "20 134\n",
      "21 0\n",
      "22 933.918536901474\n",
      "23 ModeSystem.Running\n",
      "24 ModeFlight.TakeOff\n",
      "25 ModeControlFlight.Position\n",
      "26 Headless.Normal\n",
      "27 SensorOrientation.Normal\n",
      "28 72\n",
      "29 ModeMovement.Hovering\n",
      "30 2\n"
     ]
    }
   ],
   "source": [
    "data = drone.get_sensor_data()\n",
    "for i in range(len(data)):\n",
    "\n",
    "    print(i, data[i])  # print out each data point\n",
    "\n",
    "\n",
    "\n",
    "drone.close()"
   ]
  },
  {
   "cell_type": "code",
   "execution_count": 155,
   "id": "6a332be7-3606-4794-873b-936478b7e6b4",
   "metadata": {},
   "outputs": [],
   "source": [
    "drone.reset_move_values()\n"
   ]
  },
  {
   "cell_type": "code",
   "execution_count": 125,
   "id": "3429ddba-2361-47a5-a39d-ed6c9aa767a9",
   "metadata": {},
   "outputs": [],
   "source": [
    "drone.move_backward(30)"
   ]
  },
  {
   "cell_type": "code",
   "execution_count": 99,
   "id": "0c71db84-1420-4614-9f13-45d5284d8eb2",
   "metadata": {},
   "outputs": [
    {
     "name": "stdout",
     "output_type": "stream",
     "text": [
      "['blue', 'white']\n"
     ]
    }
   ],
   "source": [
    "colors = drone.get_colors()\n",
    "print(colors)"
   ]
  },
  {
   "cell_type": "code",
   "execution_count": 117,
   "id": "f28a1f5f-291a-4ecf-9e1a-ee43b971d839",
   "metadata": {},
   "outputs": [
    {
     "name": "stdout",
     "output_type": "stream",
     "text": [
      "0\n"
     ]
    }
   ],
   "source": [
    "drone.takeoff()\n",
    "drone.set_pitch(50)\n",
    "drone.move(1)\n",
    "print(drone.get_flow_velocity_x())\n",
    "drone.land()"
   ]
  },
  {
   "cell_type": "code",
   "execution_count": 118,
   "id": "23970351-706f-4757-b5fe-51578236437e",
   "metadata": {},
   "outputs": [
    {
     "name": "stdout",
     "output_type": "stream",
     "text": [
      "-15200.0\n"
     ]
    }
   ],
   "source": [
    "drone.takeoff()\n",
    "drone.set_roll(50)\n",
    "drone.move(1)\n",
    "print(drone.get_flow_velocity_y())\n",
    "drone.land()"
   ]
  },
  {
   "cell_type": "code",
   "execution_count": 119,
   "id": "609568d8-0653-4dd2-b21d-0c2a7e4f4dce",
   "metadata": {},
   "outputs": [
    {
     "name": "stdout",
     "output_type": "stream",
     "text": [
      "-5\n"
     ]
    }
   ],
   "source": [
    "drone.takeoff()\n",
    "print(drone.get_accel_x())\n",
    "drone.land()\n"
   ]
  },
  {
   "cell_type": "code",
   "execution_count": 120,
   "id": "755ef9b8-7c2b-4759-9b28-7dff1168af58",
   "metadata": {},
   "outputs": [
    {
     "name": "stdout",
     "output_type": "stream",
     "text": [
      "0\n"
     ]
    }
   ],
   "source": [
    "drone.takeoff()\n",
    "print(drone.get_accel_x())\n",
    "drone.land()\n"
   ]
  },
  {
   "cell_type": "code",
   "execution_count": 122,
   "id": "148bc2ca-3b95-4945-b7c9-27f349d6d1b4",
   "metadata": {},
   "outputs": [
    {
     "name": "stdout",
     "output_type": "stream",
     "text": [
      "92\n"
     ]
    }
   ],
   "source": [
    "drone.takeoff()\n",
    "print(drone.get_accel_z())\n",
    "drone.land()\n"
   ]
  },
  {
   "cell_type": "code",
   "execution_count": 100,
   "id": "c9d490a6-f27c-41e0-a345-1bd2886c4550",
   "metadata": {},
   "outputs": [],
   "source": [
    "color_data = drone.get_color_data()\n"
   ]
  },
  {
   "cell_type": "code",
   "execution_count": 101,
   "id": "48f24a0b-8ced-4a50-8c3a-12a46ad5bddf",
   "metadata": {},
   "outputs": [
    {
     "data": {
      "text/plain": [
       "[456.03107714653015,\n",
       " 215,\n",
       " 54,\n",
       " 50,\n",
       " 36,\n",
       " 0,\n",
       " 0,\n",
       " 100,\n",
       " 100,\n",
       " <CardColorIndex.Blue: 6>,\n",
       " <CardColorIndex.White: 1>,\n",
       " <Card.BlueWhite: 97>]"
      ]
     },
     "execution_count": 101,
     "metadata": {},
     "output_type": "execute_result"
    }
   ],
   "source": [
    "color_data"
   ]
  },
  {
   "cell_type": "code",
   "execution_count": 94,
   "id": "197d3f0e-fa8e-4260-a667-0544b0ea7c15",
   "metadata": {},
   "outputs": [],
   "source": [
    "drone.move_distance(.5, 0, .75, 1) # move forward 0.5m, left 0.5m, and upward 0.25m simultaneously at 1m/s\n",
    "drone.move()"
   ]
  },
  {
   "cell_type": "code",
   "execution_count": 169,
   "id": "c717896e-b1f2-4811-bb09-b326eb20a012",
   "metadata": {},
   "outputs": [
    {
     "name": "stdout",
     "output_type": "stream",
     "text": [
      "82.8\n"
     ]
    }
   ],
   "source": [
    "print(drone.get_height())"
   ]
  },
  {
   "cell_type": "code",
   "execution_count": 301,
   "id": "6a46a90f-67fb-4f87-9bd7-15fd9c031c42",
   "metadata": {},
   "outputs": [
    {
     "name": "stdout",
     "output_type": "stream",
     "text": [
      "60\n",
      "83.1\n"
     ]
    }
   ],
   "source": [
    "drone.takeoff()\n",
    "print(drone.get_battery())\n",
    "print(drone.get_bottom_range())\n",
    "drone.set_throttle(10)\n"
   ]
  },
  {
   "cell_type": "code",
   "execution_count": 100,
   "id": "e37fec51-8a44-40b5-a138-8ff0aafbf6fd",
   "metadata": {},
   "outputs": [],
   "source": [
    "drone.takeoff()\n",
    "drone.set_throttle(15)\n",
    "drone.move()\n",
    "drone.hover()"
   ]
  },
  {
   "cell_type": "code",
   "execution_count": 102,
   "id": "befe8315-419e-46db-8c8c-573c42b8677e",
   "metadata": {},
   "outputs": [],
   "source": [
    "drone.set_throttle(20)\n",
    "drone.move()"
   ]
  },
  {
   "cell_type": "code",
   "execution_count": 91,
   "id": "dfa166d6-8ea4-4a58-8fd4-2497db2442fe",
   "metadata": {},
   "outputs": [],
   "source": [
    "drone.takeoff()"
   ]
  },
  {
   "cell_type": "code",
   "execution_count": 29,
   "id": "021e8545-2d68-47ee-af54-91da97ead171",
   "metadata": {},
   "outputs": [],
   "source": [
    "drone.move_backward(10)"
   ]
  },
  {
   "cell_type": "code",
   "execution_count": 128,
   "id": "004d46b3-ec82-417c-a169-8a41fb345421",
   "metadata": {},
   "outputs": [],
   "source": [
    "drone.turn_left(90)"
   ]
  },
  {
   "cell_type": "code",
   "execution_count": 129,
   "id": "76173553-7821-42d0-b4ac-41d4913f6340",
   "metadata": {},
   "outputs": [],
   "source": [
    "drone.move_forward(40)\n"
   ]
  },
  {
   "cell_type": "code",
   "execution_count": 64,
   "id": "fcfc5c16-0583-425b-a4e7-056face88cd6",
   "metadata": {},
   "outputs": [],
   "source": [
    "drone.move_right(20)"
   ]
  },
  {
   "cell_type": "code",
   "execution_count": 150,
   "id": "1c35e878-fd53-4995-ad5c-678dc308da96",
   "metadata": {},
   "outputs": [],
   "source": [
    "drone.set_throttle(15)\n",
    "drone.move()"
   ]
  },
  {
   "cell_type": "code",
   "execution_count": 155,
   "id": "bf868ab2-473c-4f3b-b951-d45016c5e77e",
   "metadata": {},
   "outputs": [],
   "source": [
    "drone.set_throttle(-20)\n",
    "drone.move()"
   ]
  },
  {
   "cell_type": "code",
   "execution_count": 75,
   "id": "1cf25c75-1f4e-4ae5-bbb6-da2fab716412",
   "metadata": {},
   "outputs": [],
   "source": [
    "drone.move_forward(20)"
   ]
  },
  {
   "cell_type": "code",
   "execution_count": 92,
   "id": "41dadb48-039c-41c7-8fc4-a3f33c05b82d",
   "metadata": {},
   "outputs": [],
   "source": [
    "drone.turn_right(25)"
   ]
  },
  {
   "cell_type": "code",
   "execution_count": 130,
   "id": "6a14ee85-55a4-449f-9c4a-e7c687018036",
   "metadata": {},
   "outputs": [],
   "source": [
    "drone.land()"
   ]
  },
  {
   "cell_type": "code",
   "execution_count": 133,
   "id": "c68a6a8e-3331-42f5-b806-3e51194dca45",
   "metadata": {},
   "outputs": [
    {
     "name": "stdout",
     "output_type": "stream",
     "text": [
      "54.05\n"
     ]
    }
   ],
   "source": [
    "temperature = drone.get_drone_temperature(\"F\")\n",
    "print(temperature)"
   ]
  },
  {
   "cell_type": "code",
   "execution_count": 134,
   "id": "a8d677ac-b5ae-49b4-a4ec-66d5e9f37e16",
   "metadata": {},
   "outputs": [
    {
     "name": "stdout",
     "output_type": "stream",
     "text": [
      "138.3\n",
      "139.15\n"
     ]
    }
   ],
   "source": [
    "print(drone.get_elevation())\n",
    "\n",
    "drone.takeoff()\n",
    "drone.hover(1)\n",
    "\n",
    "# print the elevation after taking off\n",
    "print(drone.get_elevation())\n",
    "\n",
    "drone.land()"
   ]
  },
  {
   "cell_type": "code",
   "execution_count": 182,
   "id": "be016335-dce1-42a1-a5a5-f40cb548e58b",
   "metadata": {},
   "outputs": [],
   "source": [
    "drone.land()"
   ]
  },
  {
   "cell_type": "code",
   "execution_count": 149,
   "id": "089e3480-82e4-49a4-9a68-44365e7ddbf7",
   "metadata": {},
   "outputs": [],
   "source": [
    "drone.takeoff()\n",
    "drone.send_absolute_position(0.5, 0, 1, 0.5, 0, 0)\n",
    "time.sleep(3)\n"
   ]
  },
  {
   "cell_type": "code",
   "execution_count": 186,
   "id": "5dac6c3e-3eba-48da-ac63-0b61d621699c",
   "metadata": {},
   "outputs": [],
   "source": [
    "drone.move_backward(80)"
   ]
  },
  {
   "cell_type": "code",
   "execution_count": 191,
   "id": "dccf36b9-2239-436a-9071-196e962e39df",
   "metadata": {},
   "outputs": [],
   "source": [
    "drone.land()"
   ]
  },
  {
   "cell_type": "code",
   "execution_count": 205,
   "id": "9705f718-44ba-4b24-9914-4008f0990757",
   "metadata": {},
   "outputs": [
    {
     "name": "stdout",
     "output_type": "stream",
     "text": [
      "front black\n",
      "back black\n",
      "front black\n",
      "back black\n",
      "front black\n",
      "back black\n",
      "front black\n",
      "back black\n",
      "front black\n",
      "back black\n",
      "front black\n",
      "back black\n",
      "front black\n",
      "back black\n",
      "front black\n",
      "back light blue\n",
      "front light blue\n",
      "back light blue\n",
      "front light blue\n",
      "back black\n",
      "front yellow\n",
      "back red\n",
      "front yellow\n",
      "back red\n",
      "front yellow\n",
      "back red\n",
      "front yellow\n",
      "back red\n",
      "front yellow\n",
      "back black\n",
      "front black\n",
      "back black\n",
      "front black\n",
      "back black\n",
      "front black\n",
      "back unknown\n",
      "front white\n",
      "back black\n",
      "front black\n",
      "back white\n",
      "front unknown\n",
      "back white\n",
      "front unknown\n",
      "back light blue\n",
      "front light blue\n",
      "back light blue\n",
      "front light blue\n",
      "back black\n",
      "front blue\n",
      "back purple\n",
      "front purple\n",
      "back purple\n",
      "front purple\n",
      "back purple\n",
      "front purple\n",
      "back purple\n",
      "front purple\n",
      "back light blue\n",
      "front light blue\n",
      "back light blue\n"
     ]
    }
   ],
   "source": [
    "# drone.takeoff()\n",
    "for _ in range(30):\n",
    "   \n",
    "# # Drone will move to (0.5m, 0, 0.8m) with 0 degree heading.\n",
    "#     drone.send_absolute_position(0.5, 0, 0.8, 0.5, 0, 0)\n",
    "\n",
    "# # Drone will move to (0.5m, 0.5m, 0.8m) with 0 degree heading.\n",
    "#     drone.send_absolute_position(0.5, 0.5, 0.8, 0.5, 0, 0)\n",
    "    color_data = drone.get_front_color()\n",
    "    print(\"front \"+ color_data)\n",
    "    back_color = drone.get_back_color()\n",
    "    print(\"back \"+ back_color)\n",
    "    time.sleep(2)\n",
    "\n",
    "# # Drone will move to (0, 0.5m, 0.8m) with 0 degree heading.\n",
    "#     drone.send_absolute_position(0, 0.5, 0.8, 0.5, 0, 0)\n",
    "\n",
    "# # Drone will move to (0, 0, 0.8m) with 0 degree heading.\n",
    "#     drone.send_absolute_position(0, 0, 0.8, 0.5, 0, 0)\n",
    "    \n",
    "    \n",
    "#     # drone.move_distance(.1, 0, 0, 1)\n",
    "    \n",
    "    drone.move()\n",
    "    \n",
    "    "
   ]
  },
  {
   "cell_type": "code",
   "execution_count": 238,
   "id": "10666f4a-5e7f-4216-9146-81c1d2b23230",
   "metadata": {},
   "outputs": [],
   "source": [
    "drone.land()\n"
   ]
  },
  {
   "cell_type": "code",
   "execution_count": 214,
   "id": "b6a94d79-e2e5-4c0e-9ccb-782edf624ee3",
   "metadata": {},
   "outputs": [],
   "source": [
    "drone.takeoff()"
   ]
  },
  {
   "cell_type": "code",
   "execution_count": 224,
   "id": "11f11a4a-3ddb-4e21-a2e3-d2f0094e4da1",
   "metadata": {},
   "outputs": [],
   "source": [
    "drone.close()"
   ]
  },
  {
   "cell_type": "code",
   "execution_count": 239,
   "id": "97daad17-202d-48a3-a82c-cba5ba302c62",
   "metadata": {},
   "outputs": [
    {
     "name": "stdout",
     "output_type": "stream",
     "text": [
      "0.45\n",
      "101022.48\n",
      "-76.31  millimeters\n",
      "0.65\n",
      "101012.05\n",
      "21.11  millimeters\n",
      "0.8500000000000001\n",
      "101003.6\n",
      "100.03  millimeters\n",
      "1.05\n",
      "101002.43\n",
      "110.96  millimeters\n",
      "1.25\n",
      "101002.43\n",
      "138.89  millimeters\n",
      "1.45\n",
      "100997.61\n",
      "155.98  millimeters\n",
      "1.65\n",
      "100995.2\n",
      "178.49  millimeters\n",
      "1.8499999999999999\n",
      "100992.38\n",
      "204.55  millimeters\n",
      "2.05\n",
      "100989.05\n",
      "235.93  millimeters\n",
      "2.25\n",
      "100986.9\n",
      "256.01  millimeters\n"
     ]
    }
   ],
   "source": [
    "drone.set_initial_pressure()\n",
    "drone.takeoff()\n",
    "k = .25\n",
    "for i in range(10):\n",
    "   \n",
    "    drone.send_absolute_position(0, 0, k, 1, 0, 0)\n",
    "    k+=.2\n",
    "    print(k)\n",
    "\n",
    "    print(drone.get_pressure())\n",
    "    print(drone.height_from_pressure(), \" millimeters\")\n",
    "   "
   ]
  },
  {
   "cell_type": "code",
   "execution_count": 211,
   "id": "f2049152-208b-42fb-92ec-a4f341bda854",
   "metadata": {},
   "outputs": [
    {
     "name": "stdout",
     "output_type": "stream",
     "text": [
      "100987.6\n"
     ]
    }
   ],
   "source": [
    "pressure = drone.get_pressure()\n",
    "print(pressure)"
   ]
  },
  {
   "cell_type": "code",
   "execution_count": 206,
   "id": "62926952-69aa-417b-a06e-f1c491439968",
   "metadata": {},
   "outputs": [
    {
     "name": "stdout",
     "output_type": "stream",
     "text": [
      "0.0  millimeters\n",
      "-5.04  millimeters\n",
      "-7.1  millimeters\n",
      "-12.61  millimeters\n",
      "-7.1  millimeters\n",
      "-7.1  millimeters\n",
      "-10.74  millimeters\n",
      "-13.26  millimeters\n",
      "-11.11  millimeters\n",
      "-6.72  millimeters\n",
      "-12.42  millimeters\n",
      "32.69  millimeters\n",
      "65.29  millimeters\n",
      "59.96  millimeters\n",
      "14.2  millimeters\n",
      "-11.02  millimeters\n",
      "28.3  millimeters\n",
      "42.12  millimeters\n",
      "52.96  millimeters\n",
      "18.96  millimeters\n",
      "18.96  millimeters\n",
      "-40.44  millimeters\n",
      "-37.45  millimeters\n",
      "-1.68  millimeters\n",
      "33.16  millimeters\n",
      "53.8  millimeters\n",
      "35.21  millimeters\n",
      "-48.38  millimeters\n",
      "-80.04  millimeters\n",
      "-94.43  millimeters\n",
      "-97.04  millimeters\n",
      "-91.72  millimeters\n",
      "-97.23  millimeters\n",
      "-92.47  millimeters\n",
      "-93.31  millimeters\n",
      "-83.22  millimeters\n",
      "-90.6  millimeters\n",
      "-97.23  millimeters\n",
      "-108.34  millimeters\n",
      "-109.18  millimeters\n",
      "-82.85  millimeters\n",
      "-17.65  millimeters\n",
      "50.62  millimeters\n",
      "58.56  millimeters\n",
      "50.9  millimeters\n",
      "46.14  millimeters\n",
      "45.67  millimeters\n",
      "50.44  millimeters\n",
      "55.39  millimeters\n",
      "55.39  millimeters\n",
      "52.68  millimeters\n",
      "49.97  millimeters\n",
      "56.88  millimeters\n",
      "53.33  millimeters\n",
      "47.54  millimeters\n",
      "45.3  millimeters\n",
      "44.55  millimeters\n",
      "46.23  millimeters\n",
      "44.74  millimeters\n",
      "46.05  millimeters\n",
      "45.67  millimeters\n",
      "44.93  millimeters\n",
      "46.05  millimeters\n",
      "43.62  millimeters\n",
      "39.6  millimeters\n",
      "39.32  millimeters\n",
      "41.38  millimeters\n",
      "37.92  millimeters\n",
      "39.41  millimeters\n",
      "37.36  millimeters\n",
      "35.68  millimeters\n",
      "37.83  millimeters\n",
      "39.13  millimeters\n",
      "44.46  millimeters\n",
      "45.86  millimeters\n",
      "44.08  millimeters\n",
      "41.94  millimeters\n",
      "36.61  millimeters\n",
      "37.83  millimeters\n",
      "43.99  millimeters\n",
      "41.0  millimeters\n",
      "38.01  millimeters\n",
      "21.02  millimeters\n",
      "-25.5  millimeters\n",
      "-52.4  millimeters\n",
      "-70.98  millimeters\n",
      "-68.74  millimeters\n",
      "-67.15  millimeters\n",
      "-40.63  millimeters\n",
      "-3.27  millimeters\n",
      "9.71  millimeters\n",
      "-15.41  millimeters\n",
      "-20.55  millimeters\n",
      "-24.56  millimeters\n",
      "-22.79  millimeters\n",
      "-23.44  millimeters\n",
      "-21.95  millimeters\n",
      "-24.28  millimeters\n",
      "-21.95  millimeters\n",
      "-24.1  millimeters\n",
      "-24.28  millimeters\n",
      "-23.63  millimeters\n",
      "-26.06  millimeters\n",
      "-25.4  millimeters\n",
      "-21.95  millimeters\n",
      "-23.07  millimeters\n",
      "-25.78  millimeters\n",
      "-30.07  millimeters\n",
      "-30.17  millimeters\n",
      "-22.6  millimeters\n",
      "-24.84  millimeters\n",
      "-20.73  millimeters\n",
      "-23.44  millimeters\n",
      "-21.02  millimeters\n",
      "-28.39  millimeters\n",
      "-24.75  millimeters\n",
      "-18.4  millimeters\n",
      "-22.98  millimeters\n",
      "-19.8  millimeters\n",
      "-16.25  millimeters\n",
      "-20.73  millimeters\n",
      "-17.09  millimeters\n",
      "-22.7  millimeters\n",
      "-19.05  millimeters\n",
      "-19.33  millimeters\n",
      "-18.03  millimeters\n",
      "-13.26  millimeters\n",
      "-16.25  millimeters\n",
      "-21.86  millimeters\n",
      "-16.06  millimeters\n",
      "-17.09  millimeters\n",
      "-19.61  millimeters\n",
      "-18.03  millimeters\n",
      "-17.65  millimeters\n",
      "-16.81  millimeters\n",
      "8.78  millimeters\n",
      "-46.23  millimeters\n",
      "-80.51  millimeters\n",
      "-98.82  millimeters\n",
      "-96.48  millimeters\n",
      "-98.54  millimeters\n",
      "-96.11  millimeters\n",
      "-93.68  millimeters\n",
      "-96.67  millimeters\n",
      "-92.75  millimeters\n",
      "-97.79  millimeters\n",
      "-103.3  millimeters\n",
      "-104.51  millimeters\n",
      "-97.14  millimeters\n",
      "-75.0  millimeters\n",
      "-5.04  millimeters\n",
      "42.22  millimeters\n",
      "52.68  millimeters\n",
      "54.64  millimeters\n",
      "52.68  millimeters\n",
      "51.84  millimeters\n",
      "45.3  millimeters\n",
      "37.73  millimeters\n",
      "35.4  millimeters\n",
      "27.93  millimeters\n",
      "16.81  millimeters\n",
      "13.26  millimeters\n",
      "6.72  millimeters\n",
      "-0.65  millimeters\n",
      "-0.75  millimeters\n",
      "-15.69  millimeters\n",
      "-16.53  millimeters\n",
      "-21.02  millimeters\n",
      "-19.33  millimeters\n",
      "-24.28  millimeters\n",
      "-23.44  millimeters\n",
      "-27.46  millimeters\n",
      "-20.17  millimeters\n",
      "-26.71  millimeters\n",
      "-25.12  millimeters\n",
      "-26.43  millimeters\n",
      "-20.45  millimeters\n",
      "-22.42  millimeters\n",
      "-22.42  millimeters\n",
      "-27.37  millimeters\n",
      "-20.83  millimeters\n",
      "-25.22  millimeters\n",
      "-30.07  millimeters\n",
      "-20.64  millimeters\n",
      "-29.7  millimeters\n",
      "-22.04  millimeters\n",
      "-21.76  millimeters\n",
      "-19.15  millimeters\n",
      "-20.73  millimeters\n",
      "-25.12  millimeters\n",
      "-24.66  millimeters\n",
      "-23.07  millimeters\n",
      "-23.44  millimeters\n",
      "-25.78  millimeters\n",
      "-33.53  millimeters\n",
      "-25.97  millimeters\n",
      "-21.67  millimeters\n",
      "-3.64  millimeters\n",
      "9.99  millimeters\n",
      "12.89  millimeters\n",
      "12.89  millimeters\n",
      "6.91  millimeters\n",
      "5.6  millimeters\n",
      "4.58  millimeters\n",
      "0.75  millimeters\n",
      "-4.86  millimeters\n",
      "-4.95  millimeters\n",
      "-2.71  millimeters\n",
      "-7.75  millimeters\n",
      "-0.75  millimeters\n",
      "-5.04  millimeters\n",
      "-5.23  millimeters\n",
      "-5.04  millimeters\n",
      "-11.11  millimeters\n",
      "-23.07  millimeters\n",
      "-33.44  millimeters\n",
      "-30.64  millimeters\n",
      "-29.51  millimeters\n",
      "-38.48  millimeters\n",
      "-25.22  millimeters\n",
      "-33.06  millimeters\n",
      "-40.07  millimeters\n",
      "-33.16  millimeters\n",
      "-32.13  millimeters\n",
      "-31.48  millimeters\n",
      "-29.61  millimeters\n",
      "-30.45  millimeters\n",
      "-37.73  millimeters\n",
      "-36.8  millimeters\n",
      "-37.27  millimeters\n",
      "-35.21  millimeters\n",
      "-35.59  millimeters\n",
      "-38.01  millimeters\n",
      "-34.74  millimeters\n",
      "-37.27  millimeters\n",
      "-36.15  millimeters\n",
      "-41.38  millimeters\n",
      "-43.43  millimeters\n",
      "-44.74  millimeters\n",
      "-49.13  millimeters\n",
      "-48.1  millimeters\n",
      "-46.61  millimeters\n",
      "-41.66  millimeters\n",
      "-42.68  millimeters\n",
      "-51.18  millimeters\n",
      "-47.45  millimeters\n",
      "-37.92  millimeters\n",
      "-40.44  millimeters\n",
      "-43.43  millimeters\n",
      "-42.87  millimeters\n",
      "-42.22  millimeters\n",
      "-44.83  millimeters\n",
      "-40.26  millimeters\n",
      "-36.52  millimeters\n",
      "-35.21  millimeters\n",
      "-40.44  millimeters\n",
      "-43.34  millimeters\n",
      "-37.08  millimeters\n",
      "-36.71  millimeters\n",
      "-38.76  millimeters\n",
      "-40.07  millimeters\n",
      "-44.74  millimeters\n",
      "-41.28  millimeters\n",
      "-44.18  millimeters\n",
      "-45.39  millimeters\n",
      "-44.18  millimeters\n",
      "-40.54  millimeters\n",
      "-43.06  millimeters\n",
      "-38.11  millimeters\n",
      "-44.93  millimeters\n",
      "-43.06  millimeters\n",
      "-38.01  millimeters\n",
      "-36.71  millimeters\n",
      "-37.55  millimeters\n",
      "-43.8  millimeters\n",
      "-45.02  millimeters\n",
      "-44.83  millimeters\n",
      "-44.18  millimeters\n",
      "-36.52  millimeters\n",
      "-46.05  millimeters\n",
      "-48.47  millimeters\n",
      "-38.76  millimeters\n",
      "-43.06  millimeters\n",
      "-42.03  millimeters\n",
      "-43.9  millimeters\n",
      "-45.3  millimeters\n",
      "-44.93  millimeters\n",
      "-47.45  millimeters\n",
      "-46.14  millimeters\n",
      "-47.45  millimeters\n",
      "-48.01  millimeters\n",
      "-44.08  millimeters\n",
      "-43.34  millimeters\n",
      "-42.78  millimeters\n",
      "-46.79  millimeters\n",
      "-45.39  millimeters\n",
      "-41.38  millimeters\n",
      "-45.58  millimeters\n",
      "-50.72  millimeters\n",
      "-43.24  millimeters\n"
     ]
    }
   ],
   "source": [
    "drone.set_initial_pressure()\n",
    "\n",
    "# The drone will not take off in this example but by moving it up and down manually the resulting height will print\n",
    "for i in range(300):\n",
    "    print(drone.height_from_pressure(), \" millimeters\")\n",
    "    time.sleep(0.2)\n"
   ]
  },
  {
   "cell_type": "code",
   "execution_count": 185,
   "id": "fddc2f80-4695-4400-ae65-4dcef5417504",
   "metadata": {
    "scrolled": true
   },
   "outputs": [
    {
     "name": "stdout",
     "output_type": "stream",
     "text": [
      "100971.91\n",
      "81.2\n",
      "purple\n",
      "11.856\n",
      "-4.5\n",
      "999.9\n",
      "100971.91\n",
      "65.6\n",
      "purple\n",
      "25.512\n",
      "-6.047\n",
      "999.9\n",
      "100971.91\n",
      "71.3\n",
      "purple\n",
      "31.53\n",
      "-11.973\n",
      "999.9\n",
      "100971.91\n",
      "75.6\n",
      "purple\n",
      "41.885\n",
      "-8.382\n",
      "216.8\n",
      "100971.91\n",
      "76.4\n",
      "purple\n",
      "51.834\n",
      "-1.032\n",
      "204.2\n",
      "100971.91\n",
      "77.3\n",
      "purple\n",
      "48.009\n",
      "-6.758\n",
      "217.3\n",
      "100971.91\n",
      "71.3\n",
      "purple\n",
      "59.178\n",
      "-4.773\n",
      "206.5\n",
      "100971.91\n",
      "68.4\n",
      "purple\n",
      "67.626\n",
      "-10.684\n",
      "201.9\n",
      "100971.91\n",
      "77.2\n",
      "purple\n",
      "81.448\n",
      "-10.311\n",
      "172.1\n",
      "100971.91\n",
      "72.0\n",
      "purple\n",
      "90.23\n",
      "-9.501\n",
      "156.1\n"
     ]
    }
   ],
   "source": [
    "drone.takeoff()\n",
    "for _ in range(10):\n",
    "    drone.get_pressure()\n",
    "    print(pressure)\n",
    "    current_height = drone.get_height(\"cm\")\n",
    "    print(current_height)\n",
    "    \n",
    "    drone.move_distance(.1, 0, 0, 1)\n",
    "    color_data = drone.get_front_color()\n",
    "    print(color_data)\n",
    "\n",
    "    print(drone.get_pos_x())\n",
    "    print(drone.get_pos_y())\n",
    "    distance = drone.get_front_range()\n",
    "    print(distance)\n",
    "    drone.move()\n",
    "    \n",
    "    \n",
    "    "
   ]
  },
  {
   "cell_type": "code",
   "execution_count": 135,
   "id": "022412ca-554a-4eb2-a80c-7a321149336e",
   "metadata": {},
   "outputs": [
    {
     "name": "stdout",
     "output_type": "stream",
     "text": [
      "100972.52\n"
     ]
    }
   ],
   "source": [
    "pressure = drone.get_pressure()\n",
    "print(pressure)"
   ]
  },
  {
   "cell_type": "code",
   "execution_count": 303,
   "id": "784133de-893d-4848-bd47-993b081899a9",
   "metadata": {},
   "outputs": [
    {
     "name": "stdout",
     "output_type": "stream",
     "text": [
      "Height: 82.2 cm\n",
      "Height: 82.2 cm\n",
      "Height: 82.2 cm\n",
      "Height: 82.2 cm\n",
      "Height: 83.1 cm\n",
      "Height: 83.1 cm\n",
      "Height: 83.1 cm\n",
      "Height: 88.8 cm\n"
     ]
    }
   ],
   "source": [
    "\n",
    "drone.takeoff()\n",
    "\n",
    "target_height = 90       # desired hover height (cm)\n",
    "tolerance = 3            # ± cm\n",
    "climb_throttle = 20\n",
    "descend_throttle = -10\n",
    "\n",
    "# Step 1: Climb to target height range\n",
    "for _ in range(30):\n",
    "    current_height = drone.get_height(\"cm\")\n",
    "    print(f\"Height: {current_height:.1f} cm\")\n",
    "\n",
    "    if current_height < target_height - tolerance:\n",
    "        drone.set_throttle(climb_throttle)\n",
    "    elif current_height > target_height + tolerance:\n",
    "        drone.set_throttle(descend_throttle)\n",
    "    else:\n",
    "        drone.set_throttle(0)\n",
    "        break\n",
    "\n",
    "    drone.move(0.1)\n",
    "\n",
    "# Step 2: Hover briefly at target height\n",
    "drone.hover(5)  # hold steady for 2 seconds\n"
   ]
  },
  {
   "cell_type": "code",
   "execution_count": 228,
   "id": "4f9dbc69-67e6-49b5-9a29-d3685d478570",
   "metadata": {},
   "outputs": [],
   "source": [
    "drone.move_forward(10)"
   ]
  },
  {
   "cell_type": "code",
   "execution_count": 169,
   "id": "560c0d3a-a572-416b-b199-230c2a3a7eb4",
   "metadata": {},
   "outputs": [],
   "source": [
    "drone.land()"
   ]
  },
  {
   "cell_type": "code",
   "execution_count": 216,
   "id": "5b8663b8-0288-4ba6-950f-7fec508afc64",
   "metadata": {},
   "outputs": [],
   "source": [
    "drone.move_left(5)"
   ]
  },
  {
   "cell_type": "code",
   "execution_count": null,
   "id": "69431460-77e6-433e-b149-cc7478caebb8",
   "metadata": {},
   "outputs": [],
   "source": []
  },
  {
   "cell_type": "code",
   "execution_count": 52,
   "id": "a7255f35-a9da-4e3b-8df2-56d99c2c864a",
   "metadata": {},
   "outputs": [
    {
     "name": "stdout",
     "output_type": "stream",
     "text": [
      "81.4\n",
      "height =  81.4\n",
      "81.4\n",
      "height =  83.0\n",
      "83.0\n",
      "height =  82.4\n",
      "82.4\n",
      "height =  83.7\n",
      "83.7\n",
      "height =  81.0\n",
      "81.0\n",
      "height =  82.2\n",
      "82.2\n",
      "height =  81.2\n",
      "81.2\n",
      "height =  81.8\n",
      "81.8\n",
      "height =  81.8\n",
      "81.8\n",
      "height =  83.6\n",
      "83.6\n",
      "height =  83.2\n",
      "83.2\n",
      "height =  83.8\n",
      "83.8\n",
      "height =  82.0\n",
      "82.0\n",
      "height =  82.9\n",
      "82.9\n",
      "height =  83.6\n",
      "83.6\n",
      "height =  82.7\n",
      "82.7\n",
      "height =  84.1\n",
      "84.1\n",
      "height =  84.1\n",
      "84.1\n",
      "height =  83.8\n",
      "83.8\n",
      "height =  83.8\n",
      "83.8\n",
      "height =  87.0\n",
      "87.0\n",
      "height =  84.7\n",
      "84.7\n",
      "height =  87.1\n",
      "87.1\n",
      "height =  85.6\n",
      "85.6\n",
      "height =  87.3\n",
      "87.3\n",
      "height =  87.9\n",
      "87.9\n",
      "height =  89.9\n",
      "89.9\n",
      "height =  89.9\n",
      "89.9\n",
      "height =  87.8\n",
      "87.8\n",
      "height =  87.8\n",
      "87.8\n",
      "height =  89.1\n",
      "89.1\n",
      "height =  89.1\n",
      "89.1\n",
      "height =  91.5\n",
      "91.5\n",
      "height =  90.7\n",
      "90.7\n",
      "height =  91.5\n",
      "91.5\n",
      "height =  92.6\n",
      "92.6\n",
      "height =  93.5\n",
      "93.5\n",
      "height =  93.5\n",
      "93.5\n",
      "height =  94.0\n",
      "94.0\n",
      "height =  92.9\n",
      "92.9\n",
      "height =  94.4\n",
      "94.4\n",
      "height =  96.1\n",
      "96.1\n",
      "height =  95.8\n",
      "95.8\n",
      "height =  96.3\n",
      "96.3\n",
      "height =  97.6\n",
      "97.6\n",
      "height =  99.7\n",
      "99.7\n",
      "height =  98.5\n",
      "98.5\n",
      "height =  98.5\n",
      "98.5\n",
      "height =  97.5\n",
      "97.5\n",
      "height =  98.9\n",
      "98.9\n",
      "height =  97.2\n",
      "97.2\n",
      "height =  98.8\n",
      "98.8\n",
      "height =  97.9\n",
      "97.9\n",
      "height =  99.7\n",
      "99.7\n",
      "height =  99.8\n",
      "99.8\n",
      "height =  101.6\n",
      "101.6\n",
      "height =  104.9\n"
     ]
    }
   ],
   "source": [
    "max_bottom_range = 100\n",
    "drone.takeoff()\n",
    "drone.set_throttle(30)\n",
    "current_bottom_range = drone.get_bottom_range(\"cm\")\n",
    "while current_bottom_range <= max_bottom_range:\n",
    "  drone.move()\n",
    "  current_bottom_range = drone.get_bottom_range(\"cm\")\n",
    "  print(current_bottom_range)\n",
    "  print(\"height = \",drone.get_height())  \n",
    "drone.land()\n",
    "\n",
    "\n"
   ]
  },
  {
   "cell_type": "code",
   "execution_count": 181,
   "id": "5983f5bd-e6bd-4959-847b-14be064fa7ca",
   "metadata": {},
   "outputs": [],
   "source": [
    "drone.square()\n",
    "drone.square(speed=10,seconds=1,direction=1)"
   ]
  },
  {
   "cell_type": "code",
   "execution_count": 30,
   "id": "3decae50-0e2c-497c-9085-082f3be809e6",
   "metadata": {},
   "outputs": [],
   "source": [
    "drone.set_pitch(10)"
   ]
  },
  {
   "cell_type": "code",
   "execution_count": 33,
   "id": "e802f0a8-d754-4d3d-a301-d69304ae18e6",
   "metadata": {},
   "outputs": [],
   "source": [
    "drone.move(1)\n",
    "drone.set_pitch(0)\n",
    "drone.hover(1)\n",
    "drone.land()"
   ]
  },
  {
   "cell_type": "code",
   "execution_count": 220,
   "id": "fe7a1782-9ba3-4257-aa9d-0a3b16f4d30e",
   "metadata": {},
   "outputs": [],
   "source": [
    "drone.land()"
   ]
  },
  {
   "cell_type": "code",
   "execution_count": null,
   "id": "0a7308bf-7821-449d-95c6-43e4b77375d7",
   "metadata": {},
   "outputs": [],
   "source": []
  },
  {
   "cell_type": "code",
   "execution_count": null,
   "id": "92eb3e14-55c6-48b6-a87c-41912fe50c89",
   "metadata": {},
   "outputs": [],
   "source": [
    "# Convert to DataFrame\n",
    "df = pd.DataFrame(data_log)\n",
    "df.to_csv(\"range_test_log.csv\", index=False)\n",
    "df.head()"
   ]
  },
  {
   "cell_type": "code",
   "execution_count": 5,
   "id": "e4a3319c-595f-400e-9340-8c07d845cf91",
   "metadata": {},
   "outputs": [
    {
     "name": "stdout",
     "output_type": "stream",
     "text": [
      "c:\\Users\\student\\Documents\\drone_research\\.venv\\Scripts\\python.exe\n"
     ]
    }
   ],
   "source": [
    "import sys\n",
    "print(sys.executable)"
   ]
  },
  {
   "cell_type": "code",
   "execution_count": 278,
   "id": "457e5005-2f79-4c98-b541-b9e16b3e8aff",
   "metadata": {},
   "outputs": [],
   "source": [
    "drone.takeoff()"
   ]
  },
  {
   "cell_type": "code",
   "execution_count": 283,
   "id": "83ce58d7-b193-4830-8927-b836a14e5b39",
   "metadata": {},
   "outputs": [],
   "source": [
    "drone.move_forward(10)"
   ]
  },
  {
   "cell_type": "code",
   "execution_count": 285,
   "id": "eb1fdea0-e36f-4213-b5fa-6b70ce4b1d51",
   "metadata": {},
   "outputs": [],
   "source": [
    "drone.set_throttle(20)"
   ]
  },
  {
   "cell_type": "code",
   "execution_count": null,
   "id": "786b3dd6-2f9d-474b-81ff-cbfa7eb4413c",
   "metadata": {},
   "outputs": [],
   "source": []
  },
  {
   "cell_type": "code",
   "execution_count": 281,
   "id": "69a01217-db49-4f8f-8192-874df45f363a",
   "metadata": {},
   "outputs": [
    {
     "data": {
      "text/plain": [
       "71.5"
      ]
     },
     "execution_count": 281,
     "metadata": {},
     "output_type": "execute_result"
    }
   ],
   "source": [
    "drone.get_bottom_range()"
   ]
  },
  {
   "cell_type": "code",
   "execution_count": 165,
   "id": "8dc5d432-c61f-4ff1-a43e-8e647ee0a8f6",
   "metadata": {},
   "outputs": [
    {
     "data": {
      "text/plain": [
       "0.0"
      ]
     },
     "execution_count": 165,
     "metadata": {},
     "output_type": "execute_result"
    }
   ],
   "source": [
    "drone.get_height()"
   ]
  },
  {
   "cell_type": "code",
   "execution_count": 286,
   "id": "b55380f4-5df9-4c0b-8577-a89ed57c4538",
   "metadata": {},
   "outputs": [],
   "source": [
    "drone.land()"
   ]
  },
  {
   "cell_type": "code",
   "execution_count": 192,
   "id": "53bca620-8f8d-49f8-a0ad-db9bc0381ea6",
   "metadata": {},
   "outputs": [],
   "source": [
    "def emergency_land(drone):\n",
    "    print(\"!!! Emergency landing initiated !!!\")\n",
    "    drone.land()\n",
    "    drone.emergency_stop()  # ensure motors fully stop"
   ]
  },
  {
   "cell_type": "code",
   "execution_count": 193,
   "id": "f663103c-8dcf-4b3d-9d14-bcf718d674f4",
   "metadata": {},
   "outputs": [
    {
     "name": "stdout",
     "output_type": "stream",
     "text": [
      "!!! Emergency landing initiated !!!\n"
     ]
    }
   ],
   "source": [
    "emergency_land(drone)"
   ]
  },
  {
   "cell_type": "code",
   "execution_count": 257,
   "id": "7bb225e3-0585-4fb1-a443-886f74e8c48c",
   "metadata": {},
   "outputs": [],
   "source": [
    "drone.takeoff()"
   ]
  },
  {
   "cell_type": "code",
   "execution_count": 253,
   "id": "65bee9b8-dbaa-456b-8a41-1e576e1c838d",
   "metadata": {},
   "outputs": [],
   "source": [
    "drone.takeoff()\n",
    "\n",
    "# Climb to 40 cm (while outside tunnel)\n",
    "while True:\n",
    "    current = drone.get_bottom_range(\"cm\")\n",
    "    if current is not None and 90 <= current <= 93:\n",
    "        break\n",
    "    elif current < 90:\n",
    "        drone.set_throttle(20)\n",
    "    elif current > 93:\n",
    "        drone.set_throttle(-20)\n",
    "    drone.move(0.1)\n",
    "# Hover to stabilize\n",
    "drone.set_throttle(0)\n",
    "drone.hover(1)\n",
    "\n"
   ]
  },
  {
   "cell_type": "code",
   "execution_count": 261,
   "id": "0106565e-8398-489a-aa85-774cefd05ea2",
   "metadata": {},
   "outputs": [],
   "source": [
    "drone.takeoff()"
   ]
  },
  {
   "cell_type": "code",
   "execution_count": 264,
   "id": "f412ea2b-181a-4674-8e16-2e9822b3466d",
   "metadata": {},
   "outputs": [],
   "source": [
    "drone.set_pitch(-20)"
   ]
  },
  {
   "cell_type": "code",
   "execution_count": 263,
   "id": "2e8ae897-b490-4e1a-9ca9-1f5bf8c998f5",
   "metadata": {},
   "outputs": [],
   "source": [
    "drone.move(.5)\n",
    "drone.hover()"
   ]
  },
  {
   "cell_type": "code",
   "execution_count": 247,
   "id": "7d88ed25-6c69-4848-b38d-7d69625a4e41",
   "metadata": {},
   "outputs": [],
   "source": [
    "# Enter tunnel — no more sensors!\n",
    "drone.set_pitch(30)\n",
    "drone.set_throttle(0)  # No altitude adjustments\n",
    "drone.move(1.5)        # Adjust time based on tunnel length\n"
   ]
  },
  {
   "cell_type": "code",
   "execution_count": 260,
   "id": "1450b875-b670-41e2-a153-1a502ded8dd3",
   "metadata": {},
   "outputs": [],
   "source": [
    "\n",
    "\n",
    "\n",
    "# Stop motion\n",
    "drone.set_pitch(0)\n",
    "drone.hover(1)\n",
    "drone.land()"
   ]
  },
  {
   "cell_type": "code",
   "execution_count": 240,
   "id": "7176f99d-da02-4ab5-b7df-fc35023b9f93",
   "metadata": {},
   "outputs": [
    {
     "data": {
      "text/plain": [
       "59"
      ]
     },
     "execution_count": 240,
     "metadata": {},
     "output_type": "execute_result"
    }
   ],
   "source": [
    "drone.get_battery()"
   ]
  },
  {
   "cell_type": "code",
   "execution_count": 234,
   "id": "13df4c6e-ae95-4827-9383-c0ceba60a863",
   "metadata": {},
   "outputs": [
    {
     "name": "stdout",
     "output_type": "stream",
     "text": [
      "Detected CoDrone EDU controller at port COM5\n",
      "Connected to CoDrone EDU.\n",
      "Battery = 85%\n"
     ]
    },
    {
     "data": {
      "text/plain": [
       "True"
      ]
     },
     "execution_count": 234,
     "metadata": {},
     "output_type": "execute_result"
    },
    {
     "name": "stderr",
     "output_type": "stream",
     "text": [
      "Exception in thread Thread-11 (_receiving):\n",
      "Traceback (most recent call last):\n",
      "  File \"C:\\Program Files\\WindowsApps\\PythonSoftwareFoundation.Python.3.11_3.11.2544.0_x64__qbz5n2kfra8p0\\Lib\\threading.py\", line 1045, in _bootstrap_inner\n",
      "    self.run()\n",
      "  File \"c:\\Users\\student\\Documents\\drone_research\\.venv\\Lib\\site-packages\\ipykernel\\ipkernel.py\", line 766, in run_closure\n",
      "    _threading_Thread_run(self)\n",
      "  File \"C:\\Program Files\\WindowsApps\\PythonSoftwareFoundation.Python.3.11_3.11.2544.0_x64__qbz5n2kfra8p0\\Lib\\threading.py\", line 982, in run\n",
      "    self._target(*self._args, **self._kwargs)\n",
      "  File \"c:\\Users\\student\\Documents\\drone_research\\.venv\\Lib\\site-packages\\codrone_edu\\drone.py\", line 1733, in _receiving\n",
      "    self._bufferQueue.put(self._serialport.read())\n",
      "                          ^^^^^^^^^^^^^^^^^^^^^^^\n",
      "  File \"c:\\Users\\student\\Documents\\drone_research\\.venv\\Lib\\site-packages\\serial\\serialwin32.py\", line 275, in read\n",
      "    raise SerialException(\"ClearCommError failed ({!r})\".format(ctypes.WinError()))\n",
      "serial.serialutil.SerialException: ClearCommError failed (PermissionError(13, 'The device does not recognize the command.', None, 22))\n"
     ]
    }
   ],
   "source": [
    "drone.pair()"
   ]
  },
  {
   "cell_type": "code",
   "execution_count": null,
   "id": "f2ddca9b-fcb4-4c7d-b655-e83a8d31fc3b",
   "metadata": {},
   "outputs": [],
   "source": []
  }
 ],
 "metadata": {
  "kernelspec": {
   "display_name": "Python (droneenv)",
   "language": "python",
   "name": "droneenv"
  },
  "language_info": {
   "codemirror_mode": {
    "name": "ipython",
    "version": 3
   },
   "file_extension": ".py",
   "mimetype": "text/x-python",
   "name": "python",
   "nbconvert_exporter": "python",
   "pygments_lexer": "ipython3",
   "version": "3.11.9"
  }
 },
 "nbformat": 4,
 "nbformat_minor": 5
}
