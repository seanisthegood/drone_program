{
 "cells": [
  {
   "cell_type": "markdown",
   "id": "3c9cbd6c-1a58-4a20-8195-0f0e4e9e2e6f",
   "metadata": {},
   "source": [
    "# Notebook for Drone Navigation Through Maze"
   ]
  },
  {
   "cell_type": "markdown",
   "id": "c6561517-8626-4be6-ada5-1ce92e2e7d75",
   "metadata": {},
   "source": [
    "This notebook seeks to be a controller and reporting for CoDrone. It will use its capabilities to and onboard sensors to navigate a maze and report back the metrics from the flight. "
   ]
  },
  {
   "cell_type": "markdown",
   "id": "1ea62cdc-89b2-47df-9d0f-03c3f4fe9f19",
   "metadata": {},
   "source": [
    "### Tunnels to Navigate"
   ]
  },
  {
   "cell_type": "markdown",
   "id": "ff5d5532-5401-4a2f-8255-3fcccc11f2d4",
   "metadata": {},
   "source": [
    "<div>\n",
    "<img src=\"Images/tunnel.jpg\" width=\"400\"/>\n",
    "</div>\n"
   ]
  },
  {
   "cell_type": "markdown",
   "id": "c33817a7-2990-410a-a895-bde6a0853551",
   "metadata": {},
   "source": [
    "### Drone Layout"
   ]
  },
  {
   "cell_type": "markdown",
   "id": "eb458fc6-131d-4848-9ed9-97715b8799f8",
   "metadata": {},
   "source": [
    "<div>\n",
    "<img src=\"Images/DroneLayout.png\" width=\"800\"/>\n",
    "</div>\n"
   ]
  },
  {
   "cell_type": "markdown",
   "id": "77ee35c4-f8c3-47a1-bdac-0f593220546d",
   "metadata": {},
   "source": [
    "I will attempt to take advantage of the Front Range Sensor as well as the Optical Flow and and Bottom Range Sensor.\n",
    "\n",
    "Quick Defitinons:\n",
    "\n",
    "Front Range Sensor - \n",
    "\n",
    "Bottom Range Sensor - \n",
    "\n",
    "Optical Flow Sensor - "
   ]
  },
  {
   "cell_type": "markdown",
   "id": "a499c725-58b7-4548-b900-94c002670967",
   "metadata": {},
   "source": [
    "#### Controlling the Drone"
   ]
  },
  {
   "cell_type": "code",
   "execution_count": 4,
   "id": "c82a016a-55fd-4d62-a232-0c2d5f6daa63",
   "metadata": {},
   "outputs": [
    {
     "ename": "ModuleNotFoundError",
     "evalue": "No module named 'codrone_edu'",
     "output_type": "error",
     "traceback": [
      "\u001b[31m---------------------------------------------------------------------------\u001b[39m",
      "\u001b[31mModuleNotFoundError\u001b[39m                       Traceback (most recent call last)",
      "\u001b[36mCell\u001b[39m\u001b[36m \u001b[39m\u001b[32mIn[4]\u001b[39m\u001b[32m, line 1\u001b[39m\n\u001b[32m----> \u001b[39m\u001b[32m1\u001b[39m \u001b[38;5;28;01mfrom\u001b[39;00m\u001b[38;5;250m \u001b[39m\u001b[34;01mcodrone_edu\u001b[39;00m\u001b[34;01m.\u001b[39;00m\u001b[34;01mdrone\u001b[39;00m\u001b[38;5;250m \u001b[39m\u001b[38;5;28;01mimport\u001b[39;00m *\n\u001b[32m      2\u001b[39m \u001b[38;5;28;01mimport\u001b[39;00m\u001b[38;5;250m \u001b[39m\u001b[34;01mtime\u001b[39;00m\n",
      "\u001b[31mModuleNotFoundError\u001b[39m: No module named 'codrone_edu'"
     ]
    }
   ],
   "source": [
    "from codrone_edu.drone import *\n",
    "import time"
   ]
  },
  {
   "cell_type": "code",
   "execution_count": null,
   "id": "a05c2644-93ce-4b5a-becb-012b3155b986",
   "metadata": {},
   "outputs": [],
   "source": []
  }
 ],
 "metadata": {
  "kernelspec": {
   "display_name": "Python 3 (ipykernel)",
   "language": "python",
   "name": "python3"
  },
  "language_info": {
   "codemirror_mode": {
    "name": "ipython",
    "version": 3
   },
   "file_extension": ".py",
   "mimetype": "text/x-python",
   "name": "python",
   "nbconvert_exporter": "python",
   "pygments_lexer": "ipython3",
   "version": "3.13.3"
  }
 },
 "nbformat": 4,
 "nbformat_minor": 5
}
