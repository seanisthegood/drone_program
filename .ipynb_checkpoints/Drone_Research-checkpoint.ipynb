{
 "cells": [
  {
   "cell_type": "markdown",
   "id": "3c9cbd6c-1a58-4a20-8195-0f0e4e9e2e6f",
   "metadata": {},
   "source": [
    "# Notebook for Drone Navigation Through Maze"
   ]
  },
  {
   "cell_type": "markdown",
   "id": "c6561517-8626-4be6-ada5-1ce92e2e7d75",
   "metadata": {},
   "source": [
    "This notebook seeks to be a controller and reporting for CoDrone. It will use its capabilities to and onboard sensors to navigate a maze and report back the metrics from the flight. "
   ]
  },
  {
   "cell_type": "markdown",
   "id": "1ea62cdc-89b2-47df-9d0f-03c3f4fe9f19",
   "metadata": {},
   "source": [
    "### Tunnels to Navigate"
   ]
  },
  {
   "cell_type": "markdown",
   "id": "ff5d5532-5401-4a2f-8255-3fcccc11f2d4",
   "metadata": {},
   "source": [
    "<div>\n",
    "<img src=\"Images/tunnel.jpg\" width=\"400\"/>\n",
    "</div>\n"
   ]
  },
  {
   "cell_type": "markdown",
   "id": "c33817a7-2990-410a-a895-bde6a0853551",
   "metadata": {},
   "source": [
    "### Drone Layout"
   ]
  },
  {
   "cell_type": "markdown",
   "id": "eb458fc6-131d-4848-9ed9-97715b8799f8",
   "metadata": {},
   "source": [
    "<div>\n",
    "<img src=\"Images/DroneLayout.png\" width=\"800\"/>\n",
    "</div>\n"
   ]
  },
  {
   "cell_type": "markdown",
   "id": "77ee35c4-f8c3-47a1-bdac-0f593220546d",
   "metadata": {},
   "source": [
    "I will attempt to take advantage of the Front Range Sensor as well as the Optical Flow and and Bottom Range Sensor.\n",
    "\n",
    "Quick Defitinons:\n",
    "\n",
    "Front Range Sensor - \n",
    "\n",
    "Bottom Range Sensor - \n",
    "\n",
    "Optical Flow Sensor - "
   ]
  },
  {
   "cell_type": "markdown",
   "id": "a499c725-58b7-4548-b900-94c002670967",
   "metadata": {},
   "source": [
    "#### Controlling the Drone"
   ]
  },
  {
   "cell_type": "code",
   "execution_count": 9,
   "id": "c82a016a-55fd-4d62-a232-0c2d5f6daa63",
   "metadata": {},
   "outputs": [],
   "source": [
    "from codrone_edu.drone import *\n",
    "import time\n",
    "import pandas as pd"
   ]
  },
  {
   "cell_type": "code",
   "execution_count": 294,
   "id": "621b0564-ab04-43b2-a7c3-2becf96ee3e9",
   "metadata": {},
   "outputs": [],
   "source": [
    "drone.close()"
   ]
  },
  {
   "cell_type": "code",
   "execution_count": 300,
   "id": "a05c2644-93ce-4b5a-becb-012b3155b986",
   "metadata": {},
   "outputs": [
    {
     "name": "stdout",
     "output_type": "stream",
     "text": [
      "Running codrone-edu library version 2.3\n",
      "Detected CoDrone EDU controller at port COM5\n",
      "Connected to CoDrone EDU.\n",
      "Battery = 71%\n"
     ]
    },
    {
     "data": {
      "text/plain": [
       "True"
      ]
     },
     "execution_count": 300,
     "metadata": {},
     "output_type": "execute_result"
    },
    {
     "name": "stderr",
     "output_type": "stream",
     "text": [
      "Exception in thread Thread-14 (_receiving):\n",
      "Traceback (most recent call last):\n",
      "  File \"C:\\Program Files\\WindowsApps\\PythonSoftwareFoundation.Python.3.11_3.11.2544.0_x64__qbz5n2kfra8p0\\Lib\\threading.py\", line 1045, in _bootstrap_inner\n",
      "    self.run()\n",
      "  File \"c:\\Users\\student\\Documents\\drone_research\\.venv\\Lib\\site-packages\\ipykernel\\ipkernel.py\", line 766, in run_closure\n",
      "    _threading_Thread_run(self)\n",
      "  File \"C:\\Program Files\\WindowsApps\\PythonSoftwareFoundation.Python.3.11_3.11.2544.0_x64__qbz5n2kfra8p0\\Lib\\threading.py\", line 982, in run\n",
      "    self._target(*self._args, **self._kwargs)\n",
      "  File \"c:\\Users\\student\\Documents\\drone_research\\.venv\\Lib\\site-packages\\codrone_edu\\drone.py\", line 1733, in _receiving\n",
      "    self._bufferQueue.put(self._serialport.read())\n",
      "                          ^^^^^^^^^^^^^^^^^^^^^^^\n",
      "  File \"c:\\Users\\student\\Documents\\drone_research\\.venv\\Lib\\site-packages\\serial\\serialwin32.py\", line 275, in read\n",
      "    raise SerialException(\"ClearCommError failed ({!r})\".format(ctypes.WinError()))\n",
      "serial.serialutil.SerialException: ClearCommError failed (PermissionError(13, 'The device does not recognize the command.', None, 22))\n"
     ]
    }
   ],
   "source": [
    "drone = Drone()\n",
    "drone.pair()"
   ]
  },
  {
   "cell_type": "code",
   "execution_count": 180,
   "id": "a094e704-50fb-4152-a2ee-89095c822211",
   "metadata": {},
   "outputs": [],
   "source": [
    "drone.takeoff()"
   ]
  },
  {
   "cell_type": "code",
   "execution_count": 169,
   "id": "c717896e-b1f2-4811-bb09-b326eb20a012",
   "metadata": {},
   "outputs": [
    {
     "name": "stdout",
     "output_type": "stream",
     "text": [
      "82.8\n"
     ]
    }
   ],
   "source": [
    "print(drone.get_height())"
   ]
  },
  {
   "cell_type": "code",
   "execution_count": 301,
   "id": "6a46a90f-67fb-4f87-9bd7-15fd9c031c42",
   "metadata": {},
   "outputs": [
    {
     "name": "stdout",
     "output_type": "stream",
     "text": [
      "60\n",
      "83.1\n"
     ]
    }
   ],
   "source": [
    "drone.takeoff()\n",
    "print(drone.get_battery())\n",
    "print(drone.get_bottom_range())\n",
    "drone.set_throttle(10)\n"
   ]
  },
  {
   "cell_type": "code",
   "execution_count": 100,
   "id": "e37fec51-8a44-40b5-a138-8ff0aafbf6fd",
   "metadata": {},
   "outputs": [],
   "source": [
    "drone.takeoff()\n",
    "drone.set_throttle(15)\n",
    "drone.move()\n",
    "drone.hover()"
   ]
  },
  {
   "cell_type": "code",
   "execution_count": 102,
   "id": "befe8315-419e-46db-8c8c-573c42b8677e",
   "metadata": {},
   "outputs": [],
   "source": [
    "drone.set_throttle(20)\n",
    "drone.move()"
   ]
  },
  {
   "cell_type": "code",
   "execution_count": 149,
   "id": "dfa166d6-8ea4-4a58-8fd4-2497db2442fe",
   "metadata": {},
   "outputs": [],
   "source": [
    "drone.takeoff()"
   ]
  },
  {
   "cell_type": "code",
   "execution_count": 90,
   "id": "021e8545-2d68-47ee-af54-91da97ead171",
   "metadata": {},
   "outputs": [],
   "source": [
    "drone.move_backward(10)"
   ]
  },
  {
   "cell_type": "code",
   "execution_count": 143,
   "id": "004d46b3-ec82-417c-a169-8a41fb345421",
   "metadata": {},
   "outputs": [],
   "source": [
    "drone.turn_left(10)"
   ]
  },
  {
   "cell_type": "code",
   "execution_count": 144,
   "id": "76173553-7821-42d0-b4ac-41d4913f6340",
   "metadata": {},
   "outputs": [],
   "source": [
    "drone.move_forward(30)"
   ]
  },
  {
   "cell_type": "code",
   "execution_count": 64,
   "id": "fcfc5c16-0583-425b-a4e7-056face88cd6",
   "metadata": {},
   "outputs": [],
   "source": [
    "drone.move_right(20)"
   ]
  },
  {
   "cell_type": "code",
   "execution_count": 150,
   "id": "1c35e878-fd53-4995-ad5c-678dc308da96",
   "metadata": {},
   "outputs": [],
   "source": [
    "drone.set_throttle(15)\n",
    "drone.move()"
   ]
  },
  {
   "cell_type": "code",
   "execution_count": 155,
   "id": "bf868ab2-473c-4f3b-b951-d45016c5e77e",
   "metadata": {},
   "outputs": [],
   "source": [
    "drone.set_throttle(-20)\n",
    "drone.move()"
   ]
  },
  {
   "cell_type": "code",
   "execution_count": 75,
   "id": "1cf25c75-1f4e-4ae5-bbb6-da2fab716412",
   "metadata": {},
   "outputs": [],
   "source": [
    "drone.move_forward(20)"
   ]
  },
  {
   "cell_type": "code",
   "execution_count": 72,
   "id": "41dadb48-039c-41c7-8fc4-a3f33c05b82d",
   "metadata": {},
   "outputs": [],
   "source": [
    "drone.turn_right(45)"
   ]
  },
  {
   "cell_type": "code",
   "execution_count": 302,
   "id": "6a14ee85-55a4-449f-9c4a-e7c687018036",
   "metadata": {},
   "outputs": [],
   "source": [
    "drone.land()"
   ]
  },
  {
   "cell_type": "code",
   "execution_count": 303,
   "id": "784133de-893d-4848-bd47-993b081899a9",
   "metadata": {},
   "outputs": [
    {
     "name": "stdout",
     "output_type": "stream",
     "text": [
      "Height: 82.2 cm\n",
      "Height: 82.2 cm\n",
      "Height: 82.2 cm\n",
      "Height: 82.2 cm\n",
      "Height: 83.1 cm\n",
      "Height: 83.1 cm\n",
      "Height: 83.1 cm\n",
      "Height: 88.8 cm\n"
     ]
    }
   ],
   "source": [
    "\n",
    "drone.takeoff()\n",
    "\n",
    "target_height = 90       # desired hover height (cm)\n",
    "tolerance = 3            # ± cm\n",
    "climb_throttle = 20\n",
    "descend_throttle = -10\n",
    "\n",
    "# Step 1: Climb to target height range\n",
    "for _ in range(30):\n",
    "    current_height = drone.get_height(\"cm\")\n",
    "    print(f\"Height: {current_height:.1f} cm\")\n",
    "\n",
    "    if current_height < target_height - tolerance:\n",
    "        drone.set_throttle(climb_throttle)\n",
    "    elif current_height > target_height + tolerance:\n",
    "        drone.set_throttle(descend_throttle)\n",
    "    else:\n",
    "        drone.set_throttle(0)\n",
    "        break\n",
    "\n",
    "    drone.move(0.1)\n",
    "\n",
    "# Step 2: Hover briefly at target height\n",
    "drone.hover(5)  # hold steady for 2 seconds\n"
   ]
  },
  {
   "cell_type": "code",
   "execution_count": 228,
   "id": "4f9dbc69-67e6-49b5-9a29-d3685d478570",
   "metadata": {},
   "outputs": [],
   "source": [
    "drone.move_forward(10)"
   ]
  },
  {
   "cell_type": "code",
   "execution_count": 304,
   "id": "560c0d3a-a572-416b-b199-230c2a3a7eb4",
   "metadata": {},
   "outputs": [],
   "source": [
    "drone.land()"
   ]
  },
  {
   "cell_type": "code",
   "execution_count": 216,
   "id": "5b8663b8-0288-4ba6-950f-7fec508afc64",
   "metadata": {},
   "outputs": [],
   "source": [
    "drone.move_left(5)"
   ]
  },
  {
   "cell_type": "code",
   "execution_count": null,
   "id": "69431460-77e6-433e-b149-cc7478caebb8",
   "metadata": {},
   "outputs": [],
   "source": []
  },
  {
   "cell_type": "code",
   "execution_count": 52,
   "id": "a7255f35-a9da-4e3b-8df2-56d99c2c864a",
   "metadata": {},
   "outputs": [
    {
     "name": "stdout",
     "output_type": "stream",
     "text": [
      "81.4\n",
      "height =  81.4\n",
      "81.4\n",
      "height =  83.0\n",
      "83.0\n",
      "height =  82.4\n",
      "82.4\n",
      "height =  83.7\n",
      "83.7\n",
      "height =  81.0\n",
      "81.0\n",
      "height =  82.2\n",
      "82.2\n",
      "height =  81.2\n",
      "81.2\n",
      "height =  81.8\n",
      "81.8\n",
      "height =  81.8\n",
      "81.8\n",
      "height =  83.6\n",
      "83.6\n",
      "height =  83.2\n",
      "83.2\n",
      "height =  83.8\n",
      "83.8\n",
      "height =  82.0\n",
      "82.0\n",
      "height =  82.9\n",
      "82.9\n",
      "height =  83.6\n",
      "83.6\n",
      "height =  82.7\n",
      "82.7\n",
      "height =  84.1\n",
      "84.1\n",
      "height =  84.1\n",
      "84.1\n",
      "height =  83.8\n",
      "83.8\n",
      "height =  83.8\n",
      "83.8\n",
      "height =  87.0\n",
      "87.0\n",
      "height =  84.7\n",
      "84.7\n",
      "height =  87.1\n",
      "87.1\n",
      "height =  85.6\n",
      "85.6\n",
      "height =  87.3\n",
      "87.3\n",
      "height =  87.9\n",
      "87.9\n",
      "height =  89.9\n",
      "89.9\n",
      "height =  89.9\n",
      "89.9\n",
      "height =  87.8\n",
      "87.8\n",
      "height =  87.8\n",
      "87.8\n",
      "height =  89.1\n",
      "89.1\n",
      "height =  89.1\n",
      "89.1\n",
      "height =  91.5\n",
      "91.5\n",
      "height =  90.7\n",
      "90.7\n",
      "height =  91.5\n",
      "91.5\n",
      "height =  92.6\n",
      "92.6\n",
      "height =  93.5\n",
      "93.5\n",
      "height =  93.5\n",
      "93.5\n",
      "height =  94.0\n",
      "94.0\n",
      "height =  92.9\n",
      "92.9\n",
      "height =  94.4\n",
      "94.4\n",
      "height =  96.1\n",
      "96.1\n",
      "height =  95.8\n",
      "95.8\n",
      "height =  96.3\n",
      "96.3\n",
      "height =  97.6\n",
      "97.6\n",
      "height =  99.7\n",
      "99.7\n",
      "height =  98.5\n",
      "98.5\n",
      "height =  98.5\n",
      "98.5\n",
      "height =  97.5\n",
      "97.5\n",
      "height =  98.9\n",
      "98.9\n",
      "height =  97.2\n",
      "97.2\n",
      "height =  98.8\n",
      "98.8\n",
      "height =  97.9\n",
      "97.9\n",
      "height =  99.7\n",
      "99.7\n",
      "height =  99.8\n",
      "99.8\n",
      "height =  101.6\n",
      "101.6\n",
      "height =  104.9\n"
     ]
    }
   ],
   "source": [
    "max_bottom_range = 100\n",
    "drone.takeoff()\n",
    "drone.set_throttle(30)\n",
    "current_bottom_range = drone.get_bottom_range(\"cm\")\n",
    "while current_bottom_range <= max_bottom_range:\n",
    "  drone.move()\n",
    "  current_bottom_range = drone.get_bottom_range(\"cm\")\n",
    "  print(current_bottom_range)\n",
    "  print(\"height = \",drone.get_height())  \n",
    "drone.land()\n",
    "\n",
    "\n"
   ]
  },
  {
   "cell_type": "code",
   "execution_count": 181,
   "id": "5983f5bd-e6bd-4959-847b-14be064fa7ca",
   "metadata": {},
   "outputs": [],
   "source": [
    "drone.square()\n",
    "drone.square(speed=10,seconds=1,direction=1)"
   ]
  },
  {
   "cell_type": "code",
   "execution_count": 30,
   "id": "3decae50-0e2c-497c-9085-082f3be809e6",
   "metadata": {},
   "outputs": [],
   "source": [
    "drone.set_pitch(10)"
   ]
  },
  {
   "cell_type": "code",
   "execution_count": 33,
   "id": "e802f0a8-d754-4d3d-a301-d69304ae18e6",
   "metadata": {},
   "outputs": [],
   "source": [
    "drone.move(1)\n",
    "drone.set_pitch(0)\n",
    "drone.hover(1)\n",
    "drone.land()"
   ]
  },
  {
   "cell_type": "code",
   "execution_count": 220,
   "id": "fe7a1782-9ba3-4257-aa9d-0a3b16f4d30e",
   "metadata": {},
   "outputs": [],
   "source": [
    "drone.land()"
   ]
  },
  {
   "cell_type": "code",
   "execution_count": null,
   "id": "0a7308bf-7821-449d-95c6-43e4b77375d7",
   "metadata": {},
   "outputs": [],
   "source": []
  },
  {
   "cell_type": "code",
   "execution_count": null,
   "id": "92eb3e14-55c6-48b6-a87c-41912fe50c89",
   "metadata": {},
   "outputs": [],
   "source": [
    "# Convert to DataFrame\n",
    "df = pd.DataFrame(data_log)\n",
    "df.to_csv(\"range_test_log.csv\", index=False)\n",
    "df.head()"
   ]
  },
  {
   "cell_type": "code",
   "execution_count": 5,
   "id": "e4a3319c-595f-400e-9340-8c07d845cf91",
   "metadata": {},
   "outputs": [
    {
     "name": "stdout",
     "output_type": "stream",
     "text": [
      "c:\\Users\\student\\Documents\\drone_research\\.venv\\Scripts\\python.exe\n"
     ]
    }
   ],
   "source": [
    "import sys\n",
    "print(sys.executable)"
   ]
  },
  {
   "cell_type": "code",
   "execution_count": 278,
   "id": "457e5005-2f79-4c98-b541-b9e16b3e8aff",
   "metadata": {},
   "outputs": [],
   "source": [
    "drone.takeoff()"
   ]
  },
  {
   "cell_type": "code",
   "execution_count": 283,
   "id": "83ce58d7-b193-4830-8927-b836a14e5b39",
   "metadata": {},
   "outputs": [],
   "source": [
    "drone.move_forward(10)"
   ]
  },
  {
   "cell_type": "code",
   "execution_count": 285,
   "id": "eb1fdea0-e36f-4213-b5fa-6b70ce4b1d51",
   "metadata": {},
   "outputs": [],
   "source": [
    "drone.set_throttle(20)"
   ]
  },
  {
   "cell_type": "code",
   "execution_count": null,
   "id": "786b3dd6-2f9d-474b-81ff-cbfa7eb4413c",
   "metadata": {},
   "outputs": [],
   "source": []
  },
  {
   "cell_type": "code",
   "execution_count": 281,
   "id": "69a01217-db49-4f8f-8192-874df45f363a",
   "metadata": {},
   "outputs": [
    {
     "data": {
      "text/plain": [
       "71.5"
      ]
     },
     "execution_count": 281,
     "metadata": {},
     "output_type": "execute_result"
    }
   ],
   "source": [
    "drone.get_bottom_range()"
   ]
  },
  {
   "cell_type": "code",
   "execution_count": 271,
   "id": "8dc5d432-c61f-4ff1-a43e-8e647ee0a8f6",
   "metadata": {},
   "outputs": [
    {
     "data": {
      "text/plain": [
       "72.2"
      ]
     },
     "execution_count": 271,
     "metadata": {},
     "output_type": "execute_result"
    }
   ],
   "source": [
    "drone.get_height()"
   ]
  },
  {
   "cell_type": "code",
   "execution_count": 286,
   "id": "b55380f4-5df9-4c0b-8577-a89ed57c4538",
   "metadata": {},
   "outputs": [],
   "source": [
    "drone.land()"
   ]
  },
  {
   "cell_type": "code",
   "execution_count": 5,
   "id": "53bca620-8f8d-49f8-a0ad-db9bc0381ea6",
   "metadata": {},
   "outputs": [],
   "source": [
    "def emergency_land(drone):\n",
    "    print(\"!!! Emergency landing initiated !!!\")\n",
    "    drone.land()\n",
    "    drone.emergency_stop()  # ensure motors fully stop"
   ]
  },
  {
   "cell_type": "code",
   "execution_count": 265,
   "id": "f663103c-8dcf-4b3d-9d14-bcf718d674f4",
   "metadata": {},
   "outputs": [
    {
     "name": "stdout",
     "output_type": "stream",
     "text": [
      "!!! Emergency landing initiated !!!\n"
     ]
    }
   ],
   "source": [
    "emergency_land(drone)"
   ]
  },
  {
   "cell_type": "code",
   "execution_count": 257,
   "id": "7bb225e3-0585-4fb1-a443-886f74e8c48c",
   "metadata": {},
   "outputs": [],
   "source": [
    "drone.takeoff()"
   ]
  },
  {
   "cell_type": "code",
   "execution_count": 253,
   "id": "65bee9b8-dbaa-456b-8a41-1e576e1c838d",
   "metadata": {},
   "outputs": [],
   "source": [
    "drone.takeoff()\n",
    "\n",
    "# Climb to 40 cm (while outside tunnel)\n",
    "while True:\n",
    "    current = drone.get_bottom_range(\"cm\")\n",
    "    if current is not None and 90 <= current <= 93:\n",
    "        break\n",
    "    elif current < 90:\n",
    "        drone.set_throttle(20)\n",
    "    elif current > 93:\n",
    "        drone.set_throttle(-20)\n",
    "    drone.move(0.1)\n",
    "# Hover to stabilize\n",
    "drone.set_throttle(0)\n",
    "drone.hover(1)\n",
    "\n"
   ]
  },
  {
   "cell_type": "code",
   "execution_count": 261,
   "id": "0106565e-8398-489a-aa85-774cefd05ea2",
   "metadata": {},
   "outputs": [],
   "source": [
    "drone.takeoff()"
   ]
  },
  {
   "cell_type": "code",
   "execution_count": 264,
   "id": "f412ea2b-181a-4674-8e16-2e9822b3466d",
   "metadata": {},
   "outputs": [],
   "source": [
    "drone.set_pitch(-20)"
   ]
  },
  {
   "cell_type": "code",
   "execution_count": 263,
   "id": "2e8ae897-b490-4e1a-9ca9-1f5bf8c998f5",
   "metadata": {},
   "outputs": [],
   "source": [
    "drone.move(.5)\n",
    "drone.hover()"
   ]
  },
  {
   "cell_type": "code",
   "execution_count": 247,
   "id": "7d88ed25-6c69-4848-b38d-7d69625a4e41",
   "metadata": {},
   "outputs": [],
   "source": [
    "# Enter tunnel — no more sensors!\n",
    "drone.set_pitch(30)\n",
    "drone.set_throttle(0)  # No altitude adjustments\n",
    "drone.move(1.5)        # Adjust time based on tunnel length\n"
   ]
  },
  {
   "cell_type": "code",
   "execution_count": 260,
   "id": "1450b875-b670-41e2-a153-1a502ded8dd3",
   "metadata": {},
   "outputs": [],
   "source": [
    "\n",
    "\n",
    "\n",
    "# Stop motion\n",
    "drone.set_pitch(0)\n",
    "drone.hover(1)\n",
    "drone.land()"
   ]
  },
  {
   "cell_type": "code",
   "execution_count": 240,
   "id": "7176f99d-da02-4ab5-b7df-fc35023b9f93",
   "metadata": {},
   "outputs": [
    {
     "data": {
      "text/plain": [
       "59"
      ]
     },
     "execution_count": 240,
     "metadata": {},
     "output_type": "execute_result"
    }
   ],
   "source": [
    "drone.get_battery()"
   ]
  },
  {
   "cell_type": "code",
   "execution_count": 234,
   "id": "13df4c6e-ae95-4827-9383-c0ceba60a863",
   "metadata": {},
   "outputs": [
    {
     "name": "stdout",
     "output_type": "stream",
     "text": [
      "Detected CoDrone EDU controller at port COM5\n",
      "Connected to CoDrone EDU.\n",
      "Battery = 85%\n"
     ]
    },
    {
     "data": {
      "text/plain": [
       "True"
      ]
     },
     "execution_count": 234,
     "metadata": {},
     "output_type": "execute_result"
    },
    {
     "name": "stderr",
     "output_type": "stream",
     "text": [
      "Exception in thread Thread-11 (_receiving):\n",
      "Traceback (most recent call last):\n",
      "  File \"C:\\Program Files\\WindowsApps\\PythonSoftwareFoundation.Python.3.11_3.11.2544.0_x64__qbz5n2kfra8p0\\Lib\\threading.py\", line 1045, in _bootstrap_inner\n",
      "    self.run()\n",
      "  File \"c:\\Users\\student\\Documents\\drone_research\\.venv\\Lib\\site-packages\\ipykernel\\ipkernel.py\", line 766, in run_closure\n",
      "    _threading_Thread_run(self)\n",
      "  File \"C:\\Program Files\\WindowsApps\\PythonSoftwareFoundation.Python.3.11_3.11.2544.0_x64__qbz5n2kfra8p0\\Lib\\threading.py\", line 982, in run\n",
      "    self._target(*self._args, **self._kwargs)\n",
      "  File \"c:\\Users\\student\\Documents\\drone_research\\.venv\\Lib\\site-packages\\codrone_edu\\drone.py\", line 1733, in _receiving\n",
      "    self._bufferQueue.put(self._serialport.read())\n",
      "                          ^^^^^^^^^^^^^^^^^^^^^^^\n",
      "  File \"c:\\Users\\student\\Documents\\drone_research\\.venv\\Lib\\site-packages\\serial\\serialwin32.py\", line 275, in read\n",
      "    raise SerialException(\"ClearCommError failed ({!r})\".format(ctypes.WinError()))\n",
      "serial.serialutil.SerialException: ClearCommError failed (PermissionError(13, 'The device does not recognize the command.', None, 22))\n"
     ]
    }
   ],
   "source": [
    "drone.pair()"
   ]
  },
  {
   "cell_type": "code",
   "execution_count": null,
   "id": "f2ddca9b-fcb4-4c7d-b655-e83a8d31fc3b",
   "metadata": {},
   "outputs": [],
   "source": []
  }
 ],
 "metadata": {
  "kernelspec": {
   "display_name": "Python (droneenv)",
   "language": "python",
   "name": "droneenv"
  },
  "language_info": {
   "codemirror_mode": {
    "name": "ipython",
    "version": 3
   },
   "file_extension": ".py",
   "mimetype": "text/x-python",
   "name": "python",
   "nbconvert_exporter": "python",
   "pygments_lexer": "ipython3",
   "version": "3.11.9"
  }
 },
 "nbformat": 4,
 "nbformat_minor": 5
}
